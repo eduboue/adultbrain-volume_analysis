{
 "cells": [
  {
   "cell_type": "code",
   "execution_count": 2,
   "id": "592fb874-b331-4ab0-ba16-1d546ef047b0",
   "metadata": {},
   "outputs": [],
   "source": [
    "from adultbrain import AdultBrain\n",
    "import pandas as pd\n",
    "import numpy as np"
   ]
  },
  {
   "cell_type": "code",
   "execution_count": 3,
   "id": "6a4bb2bd-bc0a-4e06-9d4f-78560b0e9367",
   "metadata": {},
   "outputs": [],
   "source": [
    "sample_path_1 = \"/Users/erikduboue/Downloads/AZBA_segmentation_in_fish_space.nii.gz\"\n",
    "sample_path_2 = \"/Users/erikduboue/Downloads/AZBA_segmentation_in_fish_space.nii.gz\"\n",
    "sample_path_3 = \"/Users/erikduboue/Downloads/AZBA_segmentation_in_fish_space.nii.gz\""
   ]
  },
  {
   "cell_type": "code",
   "execution_count": 5,
   "id": "898ec37b-3bb6-4172-876b-76a016870b18",
   "metadata": {},
   "outputs": [],
   "source": [
    "sample_one = AdultBrain.from_file(sample_path_1)\n",
    "sample_two = AdultBrain.from_file(sample_path_2)\n",
    "sample_three = AdultBrain.from_file(sample_path_3)"
   ]
  },
  {
   "cell_type": "code",
   "execution_count": null,
   "id": "e3512ee9-c572-4a55-ba15-4fc421a1a06e",
   "metadata": {},
   "outputs": [],
   "source": [
    "vc = (4.0, 4.0, 4.0)\n",
    "sample_one.voxel_conversion = vc\n",
    "sample_one.voxel_conversion = vc\n",
    "sample_one.voxel_conversion = vc"
   ]
  },
  {
   "cell_type": "code",
   "execution_count": 6,
   "id": "77308090-d809-4915-96ce-962f7fc5778a",
   "metadata": {},
   "outputs": [
    {
     "name": "stdout",
     "output_type": "stream",
     "text": [
      "No Voxel Conversion given. Performing voxel measures in pixels.\n"
     ]
    },
    {
     "name": "stderr",
     "output_type": "stream",
     "text": [
      "                                                                                \r"
     ]
    },
    {
     "data": {
      "text/plain": [
       "Region 0      195928078.0\n",
       "Region 1          38030.0\n",
       "Region 2           6039.0\n",
       "Region 3          47749.0\n",
       "Region 4          89559.0\n",
       "                 ...     \n",
       "Region 900       969267.0\n",
       "Region 901       423783.0\n",
       "Region 902       479297.0\n",
       "Region 903        45544.0\n",
       "Region 904       285750.0\n",
       "Name: Voxel Measures, Length: 204, dtype: float64"
      ]
     },
     "execution_count": 6,
     "metadata": {},
     "output_type": "execute_result"
    }
   ],
   "source": [
    "sample_one.compute_volumes()\n",
    "sample_two.compute_volumes()\n",
    "sample_three.compute_volumes()"
   ]
  },
  {
   "cell_type": "code",
   "execution_count": 9,
   "id": "00cb03d2-7294-40b8-9e27-7c6f1c653462",
   "metadata": {},
   "outputs": [
    {
     "data": {
      "text/plain": [
       "Region 0     195928078.0\n",
       "Region 1         38030.0\n",
       "Region 2          6039.0\n",
       "Region 3         47749.0\n",
       "Region 4         89559.0\n",
       "Region 5         89420.0\n",
       "Region 6         56189.0\n",
       "Region 7         19315.0\n",
       "Region 8         13098.0\n",
       "Region 9         60398.0\n",
       "Region 10          166.0\n",
       "Region 11        17414.0\n",
       "Region 12         2266.0\n",
       "Region 13         3420.0\n",
       "Region 14       565190.0\n",
       "Region 15       607649.0\n",
       "Region 16      1254841.0\n",
       "Region 17         6531.0\n",
       "Region 18         5311.0\n",
       "Region 19          250.0\n",
       "Name: Voxel Measures, dtype: float64"
      ]
     },
     "execution_count": 9,
     "metadata": {},
     "output_type": "execute_result"
    }
   ],
   "source": [
    " sample.volumes.head(20)"
   ]
  },
  {
   "cell_type": "code",
   "execution_count": 11,
   "id": "4aa71246-01fb-4f39-b42e-e3ba09b853d8",
   "metadata": {},
   "outputs": [
    {
     "name": "stdout",
     "output_type": "stream",
     "text": [
      "Computed volumes save to:  /Users/erikduboue/Downloads/AZBA_segmentation_in_fish_space.csv\n"
     ]
    }
   ],
   "source": [
    "sample.write_regions(\"/Users/erikduboue/Downloads/AZBA_segmentation_in_fish_space.csv\")"
   ]
  },
  {
   "cell_type": "code",
   "execution_count": null,
   "id": "7c1a1ef5-cfd0-4ca4-a890-efa8e570273b",
   "metadata": {},
   "outputs": [],
   "source": []
  }
 ],
 "metadata": {
  "kernelspec": {
   "display_name": "Python (adult_brain_data)",
   "language": "python",
   "name": "adult_brain_data"
  },
  "language_info": {
   "codemirror_mode": {
    "name": "ipython",
    "version": 3
   },
   "file_extension": ".py",
   "mimetype": "text/x-python",
   "name": "python",
   "nbconvert_exporter": "python",
   "pygments_lexer": "ipython3",
   "version": "3.13.5"
  }
 },
 "nbformat": 4,
 "nbformat_minor": 5
}
